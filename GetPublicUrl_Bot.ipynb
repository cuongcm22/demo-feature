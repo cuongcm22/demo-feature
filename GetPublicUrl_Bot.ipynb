{
 "cells": [
  {
   "cell_type": "code",
   "execution_count": null,
   "id": "0bde17c9-c924-4a77-ae8e-adaababecf08",
   "metadata": {},
   "outputs": [],
   "source": [
    "!pip install pyngrok"
   ]
  },
  {
   "cell_type": "code",
   "execution_count": null,
   "id": "526df401-c4c5-4b73-86fe-1bfb9f8d37a6",
   "metadata": {},
   "outputs": [],
   "source": [
    "from pyngrok import ngrok\n",
    "\n",
    "_url = 'https://localhost/'\n",
    "\n",
    "# Khởi tạo một tunnel HTTP cho localhost:80 (hoặc cổng bạn muốn)\n",
    "public_url = ngrok.connect(addr=_url, proto=\"http\").public_url\n",
    "\n",
    "# Lấy URL forwarding\n",
    "print(\"URL forwarding của bạn là:\", public_url)"
   ]
  },
  {
   "cell_type": "code",
   "execution_count": null,
   "id": "05000934-c625-400c-8541-e34923384ec2",
   "metadata": {},
   "outputs": [],
   "source": [
    "import time\n",
    "import logging\n",
    "from pyngrok import ngrok\n",
    "from telegram import Update\n",
    "from telegram.ext import Updater, CommandHandler, MessageHandler, Filters, CallbackContext\n",
    "\n",
    "# Thiết lập logging để hiển thị lỗi\n",
    "logging.basicConfig(format='%(asctime)s - %(name)s - %(levelname)s - %(message)s', level=logging.INFO)\n",
    "\n",
    "# Khai báo token của bot của bạn\n",
    "TOKEN = '7449831964:AAGCSm0QLkqAFBcPG2wu1GMFuDlylc4W71M'\n",
    "\n",
    "# Hàm xử lý khi nhận tin nhắn từ người dùng\n",
    "def start(update: Update, context: CallbackContext) -> None:\n",
    "    update.message.reply_text('Hello! Đây là bot của bạn.')\n",
    "\n",
    "def echo(update: Update, context: CallbackContext) -> None:\n",
    "    res_user = update.message.text\n",
    "    print(res_user)\n",
    "    if res_user == '@HuetBot /geturl':\n",
    "        print(public_url)\n",
    "        update.message.reply_text(f'Your url IP is: {public_url}')    \n",
    "    elif res_user == '@HuetBot /help':\n",
    "        update.message.reply_text(\"\"\"\n",
    "            This is all command\n",
    "            /meo meo\n",
    "            /bark\n",
    "        \"\"\")    \n",
    "    else:\n",
    "        update.message.reply_text('Tôi có thể giúp gì cho bạn? Gõ lệnh @HuetBot /help để biết chi tiết.')    \n",
    "    \n",
    "    \n",
    "\n",
    "def main() -> None:\n",
    "    # Khởi tạo updater với token của bot\n",
    "    updater = Updater(TOKEN)\n",
    "\n",
    "    # Lấy dispatcher để đăng ký các handler\n",
    "    dispatcher = updater.dispatcher\n",
    "\n",
    "    # Đăng ký handler cho command '/start'\n",
    "    dispatcher.add_handler(CommandHandler(\"start\", start))\n",
    "\n",
    "    # Đăng ký handler để echo lại tin nhắn của người dùng\n",
    "    dispatcher.add_handler(MessageHandler(Filters.text & ~Filters.command, echo))\n",
    "\n",
    "    # Bắt đầu polling để nhận tin nhắn từ Telegram\n",
    "    updater.start_polling()\n",
    "\n",
    "    # Chạy bot cho đến khi có lệnh ngắt\n",
    "    updater.idle()\n",
    "\n",
    "if __name__ == '__main__':\n",
    "    main()\n"
   ]
  },
  {
   "cell_type": "code",
   "execution_count": null,
   "id": "ceda254b-f25c-473a-afdf-6664e90be144",
   "metadata": {},
   "outputs": [],
   "source": []
  }
 ],
 "metadata": {
  "kernelspec": {
   "display_name": "Python 3 (ipykernel)",
   "language": "python",
   "name": "python3"
  },
  "language_info": {
   "codemirror_mode": {
    "name": "ipython",
    "version": 3
   },
   "file_extension": ".py",
   "mimetype": "text/x-python",
   "name": "python",
   "nbconvert_exporter": "python",
   "pygments_lexer": "ipython3",
   "version": "3.11.7"
  }
 },
 "nbformat": 4,
 "nbformat_minor": 5
}
